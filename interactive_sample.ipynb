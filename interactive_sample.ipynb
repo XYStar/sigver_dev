{
 "metadata": {
  "language_info": {
   "codemirror_mode": {
    "name": "ipython",
    "version": 3
   },
   "file_extension": ".py",
   "mimetype": "text/x-python",
   "name": "python",
   "nbconvert_exporter": "python",
   "pygments_lexer": "ipython3",
   "version": "3.6.3-final"
  },
  "orig_nbformat": 2,
  "kernelspec": {
   "name": "python3",
   "display_name": "Python 3.6.3 64-bit ('pyenv')",
   "metadata": {
    "interpreter": {
     "hash": "ab754b50f66054781626b90286fe510c472bd4b09d888f285320598c03d694e3"
    }
   }
  }
 },
 "nbformat": 4,
 "nbformat_minor": 2,
 "cells": [
  {
   "cell_type": "code",
   "execution_count": 1,
   "metadata": {},
   "outputs": [],
   "source": [
    "import torch\n",
    "\n",
    "from skimage.io import imread\n",
    "from skimage import img_as_ubyte\n",
    "from sigver.preprocessing.normalize import (\n",
    "    normalize_image, resize_image,\n",
    "    crop_center, preprocess_signature)\n",
    "\n",
    "# Functions to load the CNN model\n",
    "from sigver.featurelearning.models import SigNet\n",
    "\n",
    "# Functions for plotting:\n",
    "import matplotlib.pyplot as plt\n",
    "%matplotlib inline\n",
    "plt.rcParams['image.cmap'] = 'Greys'"
   ]
  },
  {
   "cell_type": "code",
   "execution_count": 2,
   "metadata": {},
   "outputs": [],
   "source": [
    "def load_signature(path):\n",
    "    return img_as_ubyte(imread(path, as_gray=True))\n",
    "\n",
    "def norm_resize_crop(original):\n",
    "    normalized = 255 - normalize_image(original, (952, 1360))\n",
    "    resized = resize_image(normalized, (170, 242))\n",
    "    cropped = crop_center(resized, (150,220))\n",
    "    return cropped\n",
    "\n",
    "# Inputs need to have 4 dimensions (batch x channels x height x width), and also be between [0, 1]\n",
    "def encoding(img):\n",
    "    canvas_size = (952, 1360)\n",
    "    img = norm_resize_crop(img)\n",
    "    img = torch.tensor(preprocess_signature(img, canvas_size) )\n",
    "\n",
    "    device = torch.device('cuda' if torch.cuda.is_available() else 'cpu')\n",
    "    \n",
    "    state_dict, _, _ = torch.load('models/signet.pth')\n",
    "    base_model = SigNet().to(device).eval()\n",
    "    base_model.load_state_dict(state_dict)\n",
    "\n",
    "    img = img.view(-1, 1, 150, 220).float().div(255)\n",
    "    with torch.no_grad():\n",
    "        img_features = base_model(img.to(device))\n",
    "    return img_features"
   ]
  },
  {
   "cell_type": "code",
   "execution_count": 10,
   "metadata": {},
   "outputs": [
    {
     "output_type": "stream",
     "name": "stdout",
     "text": [
      "tensor([[0.0000, 0.0000, 0.1949,  ..., 0.3808, 0.5881, 0.0000]])\n",
      "tensor([[0.0000, 0.0000, 0.1593,  ..., 0.3981, 0.5870, 0.0000]])\n",
      "tensor(0.5888)\n"
     ]
    }
   ],
   "source": [
    "imgpath='data/b1.png'\n",
    "original=load_signature(imgpath)\n",
    "feature1  = encoding(original)\n",
    "print(feature1)\n",
    "\n",
    "imgpath='data/b2.png'\n",
    "original=load_signature(imgpath)\n",
    "feature2  = encoding(original)\n",
    "print(feature2)\n",
    "\n",
    "print(torch.norm(feature1-feature2))"
   ]
  },
  {
   "cell_type": "code",
   "execution_count": null,
   "metadata": {},
   "outputs": [],
   "source": []
  }
 ]
}